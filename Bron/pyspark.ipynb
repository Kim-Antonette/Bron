{
  "nbformat": 4,
  "nbformat_minor": 0,
  "metadata": {
    "colab": {
      "provenance": []
    },
    "kernelspec": {
      "name": "python3",
      "display_name": "Python 3"
    },
    "language_info": {
      "name": "python"
    }
  },
  "cells": [
    {
      "cell_type": "code",
      "source": [
        "from pyspark import SparkContext\n",
        "\n",
        "# Initialize a SparkContext\n",
        "sc = SparkContext(\"local\", \"RDD with 5 Transformations\")\n",
        "\n",
        "# Create an RDD from a list of integers\n",
        "data = [1, 2, 3, 4, 5, 6, 7, 8, 9, 10]\n",
        "rdd = sc.parallelize(data)\n",
        "\n",
        "# Transformation 1: Filter to keep only even numbers\n",
        "even_rdd = rdd.filter(lambda x: x % 2 == 0)\n",
        "\n",
        "# Transformation 2: Map each number to its square\n",
        "squared_rdd = even_rdd.map(lambda x: x ** 2)\n",
        "\n",
        "# Transformation 3: Filter out numbers greater than 50\n",
        "filtered_rdd = squared_rdd.filter(lambda x: x <= 50)\n",
        "\n",
        "# Transformation 4: Add 10 to each remaining number\n",
        "added_rdd = filtered_rdd.map(lambda x: x + 10)\n",
        "\n",
        "# Transformation 5: Sort the numbers in descending order\n",
        "sorted_rdd = added_rdd.sortBy(lambda x: -x)\n",
        "\n",
        "# Action: Collect the results\n",
        "result = sorted_rdd.collect()\n",
        "\n",
        "# Print the final result\n",
        "print(\"Final Result:\", result)\n",
        "\n",
        "# Stop the SparkContext\n",
        "sc.stop()\n"
      ],
      "metadata": {
        "colab": {
          "base_uri": "https://localhost:8080/"
        },
        "id": "q7J9-VseyerY",
        "outputId": "c0aa257b-f80f-4a91-81cb-9c4c5681397a"
      },
      "execution_count": 2,
      "outputs": [
        {
          "output_type": "stream",
          "name": "stdout",
          "text": [
            "Final Result: [46, 26, 14]\n"
          ]
        }
      ]
    },
    {
      "cell_type": "code",
      "execution_count": null,
      "metadata": {
        "id": "G1AOP--2yOm9"
      },
      "outputs": [],
      "source": []
    }
  ]
}